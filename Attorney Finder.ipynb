{
 "cells": [
  {
   "cell_type": "markdown",
   "metadata": {
    "extensions": {
     "jupyter_dashboards": {
      "version": 1,
      "views": {
       "grid_default": {
        "col": 0,
        "height": 4,
        "hidden": false,
        "row": 0,
        "width": 6
       },
       "report_default": {}
      }
     }
    }
   },
   "source": [
    "\n",
    "\n",
    "# Attorney Finder"
   ]
  },
  {
   "cell_type": "markdown",
   "metadata": {
    "extensions": {
     "jupyter_dashboards": {
      "version": 1,
      "views": {
       "grid_default": {
        "col": 4,
        "height": 4,
        "hidden": true,
        "row": 0,
        "width": 4
       },
       "report_default": {}
      }
     }
    }
   },
   "source": [
    "### Imports"
   ]
  },
  {
   "cell_type": "markdown",
   "metadata": {
    "extensions": {
     "jupyter_dashboards": {
      "version": 1,
      "views": {
       "grid_default": {
        "col": 6,
        "height": 2,
        "hidden": false,
        "row": 4,
        "width": 6
       },
       "report_default": {}
      }
     }
    }
   },
   "source": [
    "### Using Other Attorneys"
   ]
  },
  {
   "cell_type": "markdown",
   "metadata": {
    "extensions": {
     "jupyter_dashboards": {
      "version": 1,
      "views": {
       "grid_default": {
        "col": 0,
        "height": 2,
        "hidden": false,
        "row": 4,
        "width": 6
       },
       "report_default": {}
      }
     }
    }
   },
   "source": [
    "### Using a Brief"
   ]
  },
  {
   "cell_type": "code",
   "execution_count": 1,
   "metadata": {
    "collapsed": false,
    "extensions": {
     "jupyter_dashboards": {
      "version": 1,
      "views": {
       "grid_default": {
        "col": 6,
        "height": 4,
        "hidden": false,
        "row": 0,
        "width": 6
       },
       "report_default": {}
      }
     }
    },
    "init_cell": true
   },
   "outputs": [
    {
     "name": "stderr",
     "output_type": "stream",
     "text": [
      "Widget Javascript not detected.  It may not be installed or enabled properly.\n"
     ]
    },
    {
     "data": {
      "application/vnd.jupyter.widget-view+json": {
       "model_id": "2db6c2d459f146ae9346d775b3bd6d13"
      }
     },
     "metadata": {},
     "output_type": "display_data"
    },
    {
     "name": "stderr",
     "output_type": "stream",
     "text": [
      "Widget Javascript not detected.  It may not be installed or enabled properly.\n"
     ]
    },
    {
     "data": {
      "application/vnd.jupyter.widget-view+json": {
       "model_id": "ce4db96b180d4ab599fdbd1720db4a26"
      }
     },
     "metadata": {},
     "output_type": "display_data"
    },
    {
     "name": "stderr",
     "output_type": "stream",
     "text": [
      "Widget Javascript not detected.  It may not be installed or enabled properly.\n"
     ]
    },
    {
     "data": {
      "application/vnd.jupyter.widget-view+json": {
       "model_id": "c53b298f96c44905a73047f5834b8386"
      }
     },
     "metadata": {},
     "output_type": "display_data"
    }
   ],
   "source": [
    "from IPython.display import Javascript, display, HTML\n",
    "from ipywidgets import widgets\n",
    "\n",
    "def go_next(ev):\n",
    "    display(Javascript('IPython.notebook.execute_cell_range(Jupyter.notebook.find_cell_index(Jupyter.notebook.get_selected_cell())+1,Jupyter.notebook.find_cell_index(Jupyter.notebook.get_selected_cell())+2)'))\n",
    "    Javascript('IPython.notebook.move_selection_down')\n",
    "    \n",
    "def go_brief(ev):\n",
    "    display(Javascript('IPython.notebook.execute_cell_range(Jupyter.notebook.find_cell_index(Jupyter.notebook.get_selected_cell())+2,Jupyter.notebook.find_cell_index(Jupyter.notebook.get_selected_cell())+3)'))\n",
    "    Javascript('IPython.notebook.move_selection_down')\n",
    "    Javascript('IPython.notebook.move_selection_down')\n",
    "    \n",
    "from fuzzywuzzy import process\n",
    "from operator import itemgetter\n",
    "from IPython.display import clear_output\n",
    "\n",
    "import pandas as pd\n",
    "import numpy as np\n",
    "import json\n",
    "import requests\n",
    "from googleapiclient.discovery import build\n",
    "\n",
    "\n",
    "\n",
    "import itertools\n",
    "from scipy.sparse import csr_matrix, coo_matrix\n",
    "\n",
    "import warnings\n",
    "warnings.filterwarnings('ignore')\n",
    "\n",
    "full = pd.read_csv('./data/atty_finder.csv')\n",
    "full = full.drop('Unnamed: 0', axis=1)\n",
    "pt_toggle = widgets.Checkbox(value=False, description='Poly-topic weighting?')\n",
    "display(pt_toggle)\n",
    "\n",
    "input_type = widgets.Dropdown(options=['document', 'attorney'], value='document', description='Method?:')\n",
    "display(input_type)\n",
    "\n",
    "next_button = widgets.Button(description='Continue')\n",
    "display(next_button)\n",
    "next_button.on_click(go_next)"
   ]
  },
  {
   "cell_type": "code",
   "execution_count": 2,
   "metadata": {
    "collapsed": false
   },
   "outputs": [
    {
     "ename": "NameError",
     "evalue": "name 'M' is not defined",
     "output_type": "error",
     "traceback": [
      "\u001b[0;31m---------------------------------------------------------------------------\u001b[0m",
      "\u001b[0;31mNameError\u001b[0m                                 Traceback (most recent call last)",
      "\u001b[0;32m<ipython-input-2-bc3c92e4b410>\u001b[0m in \u001b[0;36m<module>\u001b[0;34m()\u001b[0m\n\u001b[0;32m----> 1\u001b[0;31m \u001b[1;32mdel\u001b[0m \u001b[0mM\u001b[0m\u001b[1;33m\u001b[0m\u001b[0m\n\u001b[0m",
      "\u001b[0;31mNameError\u001b[0m: name 'M' is not defined"
     ]
    }
   ],
   "source": [
    "del M"
   ]
  },
  {
   "cell_type": "code",
   "execution_count": 4,
   "metadata": {
    "collapsed": false,
    "extensions": {
     "jupyter_dashboards": {
      "version": 1,
      "views": {
       "grid_default": {
        "hidden": true
       },
       "report_default": {}
      }
     }
    }
   },
   "outputs": [
    {
     "data": {
      "application/javascript": [
       "IPython.notebook.execute_cell_range(Jupyter.notebook.find_cell_index(Jupyter.notebook.get_selected_cell())+1,Jupyter.notebook.find_cell_index(Jupyter.notebook.get_selected_cell())+2)"
      ],
      "text/plain": [
       "<IPython.core.display.Javascript object>"
      ]
     },
     "metadata": {},
     "output_type": "display_data"
    }
   ],
   "source": [
    "pt_weighting = pt_toggle.value\n",
    "option = input_type.value\n",
    "\n",
    "try:\n",
    "    del A\n",
    "except:\n",
    "    pass\n",
    "try:\n",
    "    del M\n",
    "except:\n",
    "    pass\n",
    "\n",
    "try:\n",
    "    emails = list(np.unique(full['email']))\n",
    "    firms = list(np.unique(np.array([i.split('@')[1].split('.')[0] for i in emails])))\n",
    "    attorney_map = {}\n",
    "    case_map = {}\n",
    "    attorney_idx = 0\n",
    "    case_idx = 0\n",
    "\n",
    "    for index,email,case_id, weight,updated_NOS, cites_common_count, pt_score in full.itertuples():\n",
    "        if email not in attorney_map:\n",
    "            attorney_map[email] = attorney_idx\n",
    "            attorney_idx+=1\n",
    "        if case_id not in case_map:\n",
    "            case_map[case_id] = case_idx\n",
    "            case_idx+=1\n",
    "    del full\n",
    "except:\n",
    "    pass\n",
    "    \n",
    "if option == 'document':\n",
    "    if pt_weighting:\n",
    "        A = np.load('./data/A_pt_weight.npy')\n",
    "        go_brief(True)\n",
    "    else:\n",
    "        A = np.load('./data/A_no_pt_weight.npy')\n",
    "        go_brief(True)\n",
    "else:\n",
    "    if pt_weighting:\n",
    "        M = np.load('./data/M_pt_weight.npy')\n",
    "        go_next(True)\n",
    "    else:\n",
    "        M = np.load('./data/M_no_pt_weight.npy')\n",
    "        go_next(True)\n",
    "\n",
    "        \n",
    "\n",
    "# I,J, data = [],[],[]\n",
    "# for index, attorney, case_id, weight,updated_NOS, cites_common_count, pt_score in full.itertuples():\n",
    "#     I.append(attorney_map[attorney])\n",
    "#     J.append(case_map[case_id])\n",
    "#     if pt_weighting:\n",
    "#         data.append(weight * pt_score)\n",
    "#     else:\n",
    "#         data.append(weight)\n",
    "# n = len(attorney_map)\n",
    "# m = len(case_map)\n",
    "# M = coo_matrix((data, (I, J)), (n, m))\n",
    "# A = M.tocsr()\n",
    "# M = (A.dot(A.transpose())) \n",
    "# for i in range(M.shape[0]):\n",
    "#     M[i,i] = 0\n",
    "# del I,J,data"
   ]
  },
  {
   "cell_type": "code",
   "execution_count": 5,
   "metadata": {
    "collapsed": false,
    "extensions": {
     "jupyter_dashboards": {
      "version": 1,
      "views": {
       "grid_default": {
        "col": 6,
        "height": 38,
        "hidden": false,
        "row": 6,
        "width": 6
       },
       "report_default": {}
      }
     }
    }
   },
   "outputs": [
    {
     "data": {
      "application/vnd.jupyter.widget-view+json": {
       "model_id": "ee2429a086714bb9ab144a05de4f00d3"
      }
     },
     "metadata": {},
     "output_type": "display_data"
    },
    {
     "data": {
      "application/vnd.jupyter.widget-view+json": {
       "model_id": "409864f8c11649e79d21165e2c02fc45"
      }
     },
     "metadata": {},
     "output_type": "display_data"
    }
   ],
   "source": [
    "def top_results(attorneys, matrix1=M, num_results=5, end1=emails, begin1=attorney_map, printing1 = True):\n",
    "    A = matrix1[()].shape[0]\n",
    "    I, J, V = [], [], []\n",
    "    for i in attorneys:\n",
    "        I.append(attorney_map[i])\n",
    "        J.append(0)\n",
    "        V.append(1)\n",
    "    q_vec = coo_matrix((V,(I,J)),shape=(A, 1))\n",
    "    resultant_vec = matrix1.dot(q_vec).todense()\n",
    "    results = [item for sublist in resultant_vec.tolist() for item in sublist]\n",
    "    results_indexed = list(enumerate(results))\n",
    "    sorted_results = sorted(results_indexed, key=itemgetter(1))\n",
    "    final_index = sorted_results[-num_results:]\n",
    "    return final_index, resultant_vec\n",
    "\n",
    "def two_pass(attorneys, matrix=M, first_pass =20, second_pass = 5, end=emails, begin=attorney_map, printing = False, print_out = True):\n",
    "    index, vector = top_results(attorneys, matrix1=matrix, num_results=first_pass, end1=end, begin1=begin, printing1=printing)\n",
    "    vector = np.matrix(np.array([0 for i in range(M[()].shape[0])]).reshape(M[()].shape[0], 1))\n",
    "    for i in index:\n",
    "        vector = vector + top_results([emails[i[0]]])[1]\n",
    "    for i in attorneys:\n",
    "        vector[attorney_map[i]] = 0\n",
    "    results = [item for sublist in vector.tolist() for item in sublist]\n",
    "    results_indexed = list(enumerate(results))\n",
    "    sorted_results = sorted(results_indexed, key=itemgetter(1))\n",
    "    final_index = sorted_results[-second_pass:]\n",
    "    attorneys_res = []\n",
    "    for i in final_index:\n",
    "        attorneys_res.append(end[i[0]])\n",
    "    if print_out:\n",
    "        count = second_pass\n",
    "        for i in attorneys_res:\n",
    "            display(HTML('Attorney number %d: <a href=\"https://www.google.com/search?q=%s\", target=\"_blank\">%s</a>' %(count, str(i), str(i))))\n",
    "            count -=1\n",
    "    return attorneys_res\n",
    "\n",
    "def atty_choose(firms):\n",
    "    atty_show = [i for i in emails if i.split('@')[1].split('.')[0] in firms]\n",
    "    atty_choices = widgets.SelectMultiple(options=atty_show,description='Attorneys')\n",
    "    display(atty_choices)\n",
    "\n",
    "    one_pass = widgets.IntSlider(min=0,max=20,step=1,value=5, description='1st pass:')\n",
    "    display(one_pass)\n",
    "\n",
    "    sec_pass = widgets.IntSlider(min=0,max=20,step=1,value=5, description='2nd pass:')\n",
    "    display(sec_pass)\n",
    "\n",
    "#     print_first = widgets.Checkbox(value=False, description='See primary attorneys?',)\n",
    "#     display(print_first)\n",
    "\n",
    "    def button(b):\n",
    "        two_pass(list(atty_choices.value), \n",
    "                 matrix=M, \n",
    "                 first_pass = one_pass.value, \n",
    "                 second_pass = sec_pass.value, \n",
    "                 end=emails, \n",
    "                 begin=attorney_map, \n",
    "                 printing = False, \n",
    "                 print_out = True)\n",
    "        \n",
    "    run = widgets.Button(description=\"Click To Run!\")\n",
    "    display(run)\n",
    "    run.on_click(button)\n",
    "    \n",
    "def firm_confirm(text):\n",
    "    firms_show = [i[0] for i in process.extract(text.value, firms, limit=3) if i[1] > 85]\n",
    "    firm_choices = widgets.SelectMultiple(options=firms_show,description='Firms')\n",
    "    display(firm_choices)\n",
    "    def button(b):\n",
    "        atty_choose(firm_choices.value)\n",
    "    firm_show_button = widgets.Button(description=\"Submit!\")\n",
    "    display(firm_show_button)\n",
    "    firm_show_button.on_click(button)\n",
    "    \n",
    "def firm_choose(b):\n",
    "    start.close()\n",
    "    firm_text = widgets.Text(description='Firm:')\n",
    "    display(firm_text)\n",
    "    def button(b):\n",
    "        firm_confirm(firm_text)\n",
    "    firm_button = widgets.Button(description=\"Submit\")\n",
    "    display(firm_button)\n",
    "    firm_button.on_click(button)\n",
    "    \n",
    "button = widgets.Button(description=\"Click To Reset!\")\n",
    "display(button)\n",
    "\n",
    "def reset(ev):\n",
    "    display(Javascript('IPython.notebook.execute_cell()'))\n",
    "\n",
    "button.on_click(reset)\n",
    "start = widgets.Button(description='Click to Begin!')\n",
    "display(start)\n",
    "start.on_click(firm_choose)"
   ]
  },
  {
   "cell_type": "code",
   "execution_count": 3,
   "metadata": {
    "collapsed": false,
    "extensions": {
     "jupyter_dashboards": {
      "version": 1,
      "views": {
       "grid_default": {
        "col": 0,
        "height": 38,
        "hidden": false,
        "row": 6,
        "width": 6
       },
       "report_default": {}
      }
     }
    }
   },
   "outputs": [
    {
     "data": {
      "application/vnd.jupyter.widget-view+json": {
       "model_id": "13affa23a8064370bb82c73a3962ee0b"
      }
     },
     "metadata": {},
     "output_type": "display_data"
    },
    {
     "data": {
      "application/vnd.jupyter.widget-view+json": {
       "model_id": "7911e309943b46cd84ca302c692a50d8"
      }
     },
     "metadata": {},
     "output_type": "display_data"
    }
   ],
   "source": [
    "from os import listdir\n",
    "from os.path import isfile, join\n",
    "\n",
    "\n",
    "def get_referral(choice):\n",
    "    from extract_references_from_pdfs import process_file\n",
    "    choice = choice\n",
    "    refs = process_file('./docs/'+choice)\n",
    "    refs = refs.json()['references']\n",
    "    I,J, data = [],[],[]\n",
    "    for i in refs:\n",
    "        try:\n",
    "            I.append(case_map[i['id']])\n",
    "            J.append(0)\n",
    "            data.append(i['weight']) \n",
    "        except KeyError:\n",
    "            continue\n",
    "    n = len(case_map)\n",
    "    m = 1\n",
    "    X = coo_matrix((data, (I, J)), (n, m))\n",
    "    del I, J, data\n",
    "\n",
    "    num_results = 5\n",
    "    resultant_vec = A.dot(X).todense()\n",
    "    results = [item for sublist in resultant_vec.tolist() for item in sublist]\n",
    "    results_indexed = list(enumerate(results))\n",
    "    sorted_results = sorted(results_indexed, key=itemgetter(1))\n",
    "    final_index = sorted_results[-num_results:]\n",
    "    attorneys_res = []\n",
    "    for i in final_index:\n",
    "            attorneys_res.append(emails[i[0]])\n",
    "    for i in attorneys_res:\n",
    "        display(HTML('Attorney number %d: <a href=\"https://www.google.com/search?q=%s\", target=\"_blank\">%s</a>' %(num_results, str(i), str(i))))\n",
    "        num_results -=1\n",
    "\n",
    "def doc_choose(ev):\n",
    "    onlyfiles = [f for f in listdir('./docs/') if isfile(join('./docs/',f))]\n",
    "    doc_choice = widgets.Dropdown(options=onlyfiles, description='PDF Document?:')\n",
    "    display(doc_choice)\n",
    "    next_button = widgets.Button(description='Continue')\n",
    "    display(next_button)\n",
    "    def button(b):\n",
    "        get_referral(doc_choice.value)\n",
    "    next_button.on_click(button)\n",
    "\n",
    "\n",
    "button = widgets.Button(description=\"Click To Reset!\")\n",
    "display(button)\n",
    "\n",
    "def reset(ev):\n",
    "    display(Javascript('IPython.notebook.execute_cell()'))\n",
    "\n",
    "button.on_click(reset)\n",
    "start = widgets.Button(description='Click to Begin!')\n",
    "display(start)\n",
    "start.on_click(doc_choose)"
   ]
  },
  {
   "cell_type": "code",
   "execution_count": null,
   "metadata": {
    "collapsed": true,
    "extensions": {
     "jupyter_dashboards": {
      "version": 1,
      "views": {
       "grid_default": {
        "hidden": true
       },
       "report_default": {}
      }
     }
    }
   },
   "outputs": [],
   "source": []
  }
 ],
 "metadata": {
  "anaconda-cloud": {},
  "celltoolbar": "Initialization Cell",
  "extensions": {
   "jupyter_dashboards": {
    "activeView": "grid_default",
    "version": 1,
    "views": {
     "grid_default": {
      "cellMargin": 10,
      "defaultCellHeight": 20,
      "maxColumns": 12,
      "name": "grid",
      "type": "grid"
     },
     "report_default": {
      "name": "report",
      "type": "report"
     }
    }
   }
  },
  "kernelspec": {
   "display_name": "Python [ds100]",
   "language": "python",
   "name": "Python [ds100]"
  },
  "language_info": {
   "codemirror_mode": {
    "name": "ipython",
    "version": 3
   },
   "file_extension": ".py",
   "mimetype": "text/x-python",
   "name": "python",
   "nbconvert_exporter": "python",
   "pygments_lexer": "ipython3",
   "version": "3.5.2"
  }
 },
 "nbformat": 4,
 "nbformat_minor": 2
}
